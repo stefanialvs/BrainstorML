{
 "cells": [
  {
   "cell_type": "code",
   "execution_count": 1,
   "id": "inside-louis",
   "metadata": {},
   "outputs": [],
   "source": [
    "import numpy as np\n",
    "from scipy import spatial\n",
    "import matplotlib.pyplot as plt\n",
    "from sklearn.manifold import TSNE"
   ]
  },
  {
   "cell_type": "code",
   "execution_count": 2,
   "id": "rubber-calgary",
   "metadata": {},
   "outputs": [
    {
     "name": "stdout",
     "output_type": "stream",
     "text": [
      "Loaded 400000 word vectors.\n"
     ]
    }
   ],
   "source": [
    "# load the whole embedding into memory       \n",
    "embeddings_dict={}\n",
    "with open('src_py/data/glove.6B.100d.txt','r') as f:\n",
    "    for line in f:\n",
    "        values=line.split()\n",
    "        word=values[0]\n",
    "        vectors=np.asarray(values[1:],'float32')\n",
    "        embeddings_dict[word]=vectors\n",
    "f.close()\n",
    "print('Loaded %s word vectors.' % len(embeddings_dict))"
   ]
  },
  {
   "cell_type": "code",
   "execution_count": 3,
   "id": "artificial-income",
   "metadata": {},
   "outputs": [],
   "source": [
    "def find_closest_embeddings(embedding): \n",
    "    return sorted(embeddings_dict.keys(), key=lambda word: spatial.distance.euclidean(embeddings_dict[word], embedding))"
   ]
  },
  {
   "cell_type": "code",
   "execution_count": 10,
   "id": "mineral-dallas",
   "metadata": {},
   "outputs": [
    {
     "name": "stdout",
     "output_type": "stream",
     "text": [
      "['indigenous', 'natives', 'lived', 'endtag', 'unlike', 'known', 'referred', 'originated', 'tribe']\n"
     ]
    }
   ],
   "source": [
    "print(find_closest_embeddings(embeddings_dict[\"native\"])[1:10])"
   ]
  },
  {
   "cell_type": "code",
   "execution_count": null,
   "id": "surgical-county",
   "metadata": {},
   "outputs": [],
   "source": []
  }
 ],
 "metadata": {
  "kernelspec": {
   "display_name": "Python 3",
   "language": "python",
   "name": "python3"
  },
  "language_info": {
   "codemirror_mode": {
    "name": "ipython",
    "version": 3
   },
   "file_extension": ".py",
   "mimetype": "text/x-python",
   "name": "python",
   "nbconvert_exporter": "python",
   "pygments_lexer": "ipython3",
   "version": "3.7.10"
  }
 },
 "nbformat": 4,
 "nbformat_minor": 5
}
