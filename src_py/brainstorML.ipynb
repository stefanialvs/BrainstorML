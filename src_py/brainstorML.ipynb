{
 "cells": [
  {
   "cell_type": "code",
   "execution_count": 1,
   "id": "center-guinea",
   "metadata": {},
   "outputs": [],
   "source": [
    "import numpy as np\n",
    "import pandas as pd"
   ]
  },
  {
   "cell_type": "code",
   "execution_count": 4,
   "id": "intelligent-titanium",
   "metadata": {},
   "outputs": [
    {
     "output_type": "execute_result",
     "data": {
      "text/plain": [
       "              word          x          y\n",
       "0              the  85.077200   9.514782\n",
       "1                ,  84.960620   9.250578\n",
       "2                .  85.001900   9.201346\n",
       "3               of  84.726130   9.356920\n",
       "4               to  85.887340   7.373219\n",
       "...            ...        ...        ...\n",
       "399995      chanty  21.977028   6.534129\n",
       "399996      kronik   3.715976 -25.502014\n",
       "399997     rolonda  -8.363313  -2.412165\n",
       "399998     zsombor -32.306004 -27.756212\n",
       "399999  sandberger -17.874890 -45.889297\n",
       "\n",
       "[400000 rows x 3 columns]"
      ],
      "text/html": "<div>\n<style scoped>\n    .dataframe tbody tr th:only-of-type {\n        vertical-align: middle;\n    }\n\n    .dataframe tbody tr th {\n        vertical-align: top;\n    }\n\n    .dataframe thead th {\n        text-align: right;\n    }\n</style>\n<table border=\"1\" class=\"dataframe\">\n  <thead>\n    <tr style=\"text-align: right;\">\n      <th></th>\n      <th>word</th>\n      <th>x</th>\n      <th>y</th>\n    </tr>\n  </thead>\n  <tbody>\n    <tr>\n      <th>0</th>\n      <td>the</td>\n      <td>85.077200</td>\n      <td>9.514782</td>\n    </tr>\n    <tr>\n      <th>1</th>\n      <td>,</td>\n      <td>84.960620</td>\n      <td>9.250578</td>\n    </tr>\n    <tr>\n      <th>2</th>\n      <td>.</td>\n      <td>85.001900</td>\n      <td>9.201346</td>\n    </tr>\n    <tr>\n      <th>3</th>\n      <td>of</td>\n      <td>84.726130</td>\n      <td>9.356920</td>\n    </tr>\n    <tr>\n      <th>4</th>\n      <td>to</td>\n      <td>85.887340</td>\n      <td>7.373219</td>\n    </tr>\n    <tr>\n      <th>...</th>\n      <td>...</td>\n      <td>...</td>\n      <td>...</td>\n    </tr>\n    <tr>\n      <th>399995</th>\n      <td>chanty</td>\n      <td>21.977028</td>\n      <td>6.534129</td>\n    </tr>\n    <tr>\n      <th>399996</th>\n      <td>kronik</td>\n      <td>3.715976</td>\n      <td>-25.502014</td>\n    </tr>\n    <tr>\n      <th>399997</th>\n      <td>rolonda</td>\n      <td>-8.363313</td>\n      <td>-2.412165</td>\n    </tr>\n    <tr>\n      <th>399998</th>\n      <td>zsombor</td>\n      <td>-32.306004</td>\n      <td>-27.756212</td>\n    </tr>\n    <tr>\n      <th>399999</th>\n      <td>sandberger</td>\n      <td>-17.874890</td>\n      <td>-45.889297</td>\n    </tr>\n  </tbody>\n</table>\n<p>400000 rows × 3 columns</p>\n</div>"
     },
     "metadata": {},
     "execution_count": 4
    }
   ],
   "source": [
    "# load tsne glove embeddings from csv\n",
    "tsne_df = pd.read_csv('./data/tsne_glove.csv')\n",
    "tsne_df"
   ]
  },
  {
   "cell_type": "code",
   "execution_count": 6,
   "id": "defined-trick",
   "metadata": {},
   "outputs": [],
   "source": [
    "# translate dataframe to json\n",
    "tsne_df.to_json('./data/tsne_glove.json', orient='records')"
   ]
  }
 ],
 "metadata": {
  "kernelspec": {
   "name": "python3",
   "display_name": "Python 3.7.10 64-bit ('nixtla': conda)",
   "metadata": {
    "interpreter": {
     "hash": "97c68c0f618c4f787b1e02bfee278e48d25b62407cb335aab5258cedc4db4ced"
    }
   }
  },
  "language_info": {
   "codemirror_mode": {
    "name": "ipython",
    "version": 3
   },
   "file_extension": ".py",
   "mimetype": "text/x-python",
   "name": "python",
   "nbconvert_exporter": "python",
   "pygments_lexer": "ipython3",
   "version": "3.7.10"
  }
 },
 "nbformat": 4,
 "nbformat_minor": 5
}