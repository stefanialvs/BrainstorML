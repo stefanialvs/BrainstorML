{
 "cells": [
  {
   "cell_type": "code",
   "execution_count": 1,
   "id": "center-guinea",
   "metadata": {},
   "outputs": [],
   "source": [
    "import numpy as np\n",
    "import pandas as pd\n",
    "\n",
    "from scipy import spatial\n",
    "import matplotlib.pyplot as plt\n",
    "import gensim\n",
    "from sklearn.manifold import TSNE\n",
    "\n",
    "# from src_py.utils import "
   ]
  },
  {
   "cell_type": "code",
   "execution_count": 2,
   "id": "intelligent-titanium",
   "metadata": {},
   "outputs": [],
   "source": [
    "# global variables\n",
    "ROOT_DIR = '/Users/stefanialavattiata/Desktop/BrainstorML/src_py'\n",
    "DATA_DIR = f'{ROOT_DIR}/data/'"
   ]
  },
  {
   "cell_type": "code",
   "execution_count": 3,
   "id": "defined-trick",
   "metadata": {},
   "outputs": [
    {
     "name": "stdout",
     "output_type": "stream",
     "text": [
      "Loaded 400000 word vectors.\n"
     ]
    }
   ],
   "source": [
    "# load the whole embedding into memory       \n",
    "embeddings_dict={}\n",
    "with open(f'{DATA_DIR}/glove.6B.100d.txt','r') as f:\n",
    "    for line in f:\n",
    "        values=line.split()\n",
    "        word=values[0]\n",
    "        vectors=np.asarray(values[1:],'float32')\n",
    "        embeddings_dict[word]=vectors\n",
    "f.close()\n",
    "print('Loaded %s word vectors.' % len(embeddings_dict))"
   ]
  },
  {
   "cell_type": "code",
   "execution_count": 4,
   "id": "military-tactics",
   "metadata": {},
   "outputs": [
    {
     "data": {
      "text/plain": [
       "array([-0.10159  ,  0.27491  , -0.45296  ,  0.16752  ,  0.59923  ,\n",
       "       -0.80049  ,  0.39553  , -0.069191 , -0.32806  ,  1.4265   ,\n",
       "        0.31576  , -0.84981  ,  0.26073  , -0.31742  , -0.12402  ,\n",
       "        0.20956  ,  0.26322  ,  0.69942  , -0.091188 , -0.15548  ,\n",
       "       -0.87573  , -0.77778  ,  0.23715  , -0.66528  ,  0.48373  ,\n",
       "       -0.51719  , -0.24449  , -0.3951   , -0.58762  , -0.60386  ,\n",
       "       -0.66735  ,  1.039    , -0.51326  ,  0.032116 ,  0.20098  ,\n",
       "        0.35802  ,  0.015017 , -0.28235  ,  0.065305 , -0.43247  ,\n",
       "        0.17061  , -0.70985  , -0.28024  ,  0.26596  , -0.1753   ,\n",
       "        0.10066  ,  0.17453  ,  0.076265 , -0.18259  ,  0.050783 ,\n",
       "        0.23142  , -0.062024 , -0.16807  ,  0.73151  ,  0.1688   ,\n",
       "       -2.3304   , -0.15986  ,  0.25371  ,  1.5799   , -0.25435  ,\n",
       "        0.17311  ,  0.73297  ,  0.061702 ,  1.3885   ,  0.71277  ,\n",
       "       -0.56839  , -0.18891  ,  0.27     , -0.21111  , -0.11889  ,\n",
       "       -0.28836  ,  0.61762  , -0.10381  , -0.19017  ,  0.34063  ,\n",
       "       -0.54634  ,  0.57136  ,  0.49681  , -0.54458  , -0.3366   ,\n",
       "       -0.44133  , -0.24763  , -0.25082  ,  0.037016 , -1.2972   ,\n",
       "        0.4689   ,  0.12926  , -1.2479   , -0.39497  , -0.35029  ,\n",
       "        0.23662  , -0.46995  ,  0.44018  ,  0.0056156,  0.44697  ,\n",
       "        0.047862 , -1.0273   , -1.1573   ,  1.4317   ,  0.0033304],\n",
       "      dtype=float32)"
      ]
     },
     "execution_count": 4,
     "metadata": {},
     "output_type": "execute_result"
    }
   ],
   "source": [
    "# display a single vector (embedding)\n",
    "embeddings_dict['design']"
   ]
  },
  {
   "cell_type": "code",
   "execution_count": 5,
   "id": "future-amount",
   "metadata": {},
   "outputs": [],
   "source": [
    "# define (euclidean) distance function \n",
    "def find_closest_embeddings(embedding): \n",
    "    return sorted(embeddings_dict.keys(), \n",
    "                    key=lambda word: spatial.distance.euclidean(embeddings_dict[word],embedding))"
   ]
  },
  {
   "cell_type": "code",
   "execution_count": 57,
   "id": "changing-diesel",
   "metadata": {},
   "outputs": [
    {
     "name": "stdout",
     "output_type": "stream",
     "text": [
      "['focused', 'focusing', 'emphasis', 'continuing', 'emphasize', 'attention', 'push', 'particular', 'focuses']\n"
     ]
    }
   ],
   "source": [
    "print(find_closest_embeddings(embeddings_dict[\"focus\"])[1:10])"
   ]
  },
  {
   "cell_type": "code",
   "execution_count": 52,
   "id": "boring-religious",
   "metadata": {},
   "outputs": [
    {
     "data": {
      "text/html": [
       "<div>\n",
       "<style scoped>\n",
       "    .dataframe tbody tr th:only-of-type {\n",
       "        vertical-align: middle;\n",
       "    }\n",
       "\n",
       "    .dataframe tbody tr th {\n",
       "        vertical-align: top;\n",
       "    }\n",
       "\n",
       "    .dataframe thead th {\n",
       "        text-align: right;\n",
       "    }\n",
       "</style>\n",
       "<table border=\"1\" class=\"dataframe\">\n",
       "  <thead>\n",
       "    <tr style=\"text-align: right;\">\n",
       "      <th></th>\n",
       "      <th>bml_words2</th>\n",
       "    </tr>\n",
       "  </thead>\n",
       "  <tbody>\n",
       "    <tr>\n",
       "      <th>0</th>\n",
       "      <td>Technology</td>\n",
       "    </tr>\n",
       "    <tr>\n",
       "      <th>1</th>\n",
       "      <td>automate</td>\n",
       "    </tr>\n",
       "    <tr>\n",
       "      <th>2</th>\n",
       "      <td>Community</td>\n",
       "    </tr>\n",
       "    <tr>\n",
       "      <th>3</th>\n",
       "      <td>Computers</td>\n",
       "    </tr>\n",
       "    <tr>\n",
       "      <th>4</th>\n",
       "      <td>Robots</td>\n",
       "    </tr>\n",
       "    <tr>\n",
       "      <th>5</th>\n",
       "      <td>Math</td>\n",
       "    </tr>\n",
       "    <tr>\n",
       "      <th>6</th>\n",
       "      <td>Focus</td>\n",
       "    </tr>\n",
       "    <tr>\n",
       "      <th>7</th>\n",
       "      <td>networking</td>\n",
       "    </tr>\n",
       "    <tr>\n",
       "      <th>8</th>\n",
       "      <td>Learning</td>\n",
       "    </tr>\n",
       "    <tr>\n",
       "      <th>9</th>\n",
       "      <td>Collaboration</td>\n",
       "    </tr>\n",
       "    <tr>\n",
       "      <th>10</th>\n",
       "      <td>Online</td>\n",
       "    </tr>\n",
       "    <tr>\n",
       "      <th>11</th>\n",
       "      <td>Users</td>\n",
       "    </tr>\n",
       "    <tr>\n",
       "      <th>12</th>\n",
       "      <td>Speculative</td>\n",
       "    </tr>\n",
       "    <tr>\n",
       "      <th>13</th>\n",
       "      <td>Futures</td>\n",
       "    </tr>\n",
       "    <tr>\n",
       "      <th>14</th>\n",
       "      <td>Thinking</td>\n",
       "    </tr>\n",
       "    <tr>\n",
       "      <th>15</th>\n",
       "      <td>Scenarios</td>\n",
       "    </tr>\n",
       "    <tr>\n",
       "      <th>16</th>\n",
       "      <td>Adapt</td>\n",
       "    </tr>\n",
       "    <tr>\n",
       "      <th>17</th>\n",
       "      <td>Programming</td>\n",
       "    </tr>\n",
       "    <tr>\n",
       "      <th>18</th>\n",
       "      <td>Support</td>\n",
       "    </tr>\n",
       "    <tr>\n",
       "      <th>19</th>\n",
       "      <td>Memory</td>\n",
       "    </tr>\n",
       "  </tbody>\n",
       "</table>\n",
       "</div>"
      ],
      "text/plain": [
       "       bml_words2\n",
       "0      Technology\n",
       "1        automate\n",
       "2       Community\n",
       "3       Computers\n",
       "4          Robots\n",
       "5            Math\n",
       "6           Focus\n",
       "7      networking\n",
       "8        Learning\n",
       "9   Collaboration\n",
       "10         Online\n",
       "11          Users\n",
       "12    Speculative\n",
       "13        Futures\n",
       "14       Thinking\n",
       "15      Scenarios\n",
       "16          Adapt\n",
       "17    Programming\n",
       "18        Support\n",
       "19         Memory"
      ]
     },
     "execution_count": 52,
     "metadata": {},
     "output_type": "execute_result"
    }
   ],
   "source": [
    "bml_1 = pd.read_csv (f'{DATA_DIR}/test_data/bml_words1.csv')\n",
    "bml_2 = pd.read_csv (f'{DATA_DIR}/test_data/bml_words2.csv')\n",
    "bml_3 = pd.read_csv (f'{DATA_DIR}/test_data/bml_words3.csv')\n",
    "bml_2"
   ]
  },
  {
   "cell_type": "code",
   "execution_count": 63,
   "id": "saving-acrylic",
   "metadata": {},
   "outputs": [],
   "source": [
    "def clean_word(my_str):\n",
    "    my_str = str(my_str).lower()\n",
    "    punc = '''!()-[]{};:'\"\\,<>./?@#$%^&*_~'''\n",
    "    for ele in my_str:  \n",
    "        if ele in punc:  \n",
    "            my_str = my_str.replace(ele, \"\")\n",
    "    return my_str"
   ]
  },
  {
   "cell_type": "code",
   "execution_count": 64,
   "id": "overall-madison",
   "metadata": {},
   "outputs": [
    {
     "name": "stdout",
     "output_type": "stream",
     "text": [
      "embeddings_query.shape (20, 100)\n"
     ]
    }
   ],
   "source": [
    "embeddings_query = []\n",
    "embeddings_words = []\n",
    "for idx, row in bml_2.iterrows():\n",
    "    word = clean_word(row['bml_words2'])\n",
    "    embedding = embeddings_dict[word]\n",
    "    embeddings_query.append(embedding)\n",
    "    embeddings_words.append(row['bml_words2'])\n",
    "    \n",
    "embeddings_query = np.vstack(embeddings_query)  \n",
    "print(\"embeddings_query.shape\", embeddings_query.shape)"
   ]
  },
  {
   "cell_type": "code",
   "execution_count": 65,
   "id": "communist-toddler",
   "metadata": {},
   "outputs": [
    {
     "name": "stdout",
     "output_type": "stream",
     "text": [
      "word_vectors.shape (20, 2)\n"
     ]
    },
    {
     "data": {
      "image/png": "[encoded data removed]",
      "text/plain": [
       "<Figure size 432x288 with 1 Axes>"
      ]
     },
     "metadata": {
      "needs_background": "light"
     },
     "output_type": "display_data"
    }
   ],
   "source": [
    "word_vectors = TSNE(n_components = 2, random_state=0,\n",
    "                    learning_rate = 0.05).fit_transform(embeddings_query)\n",
    " \n",
    "print(\"word_vectors.shape\", word_vectors.shape)\n",
    "\n",
    "x_coords, y_coords = word_vectors[:,0], word_vectors[:,1]\n",
    "plt.scatter(x_coords, y_coords)\n",
    "\n",
    "for label, x, y in zip(embeddings_words, x_coords, y_coords):\n",
    "    plt.annotate(label, xy=(x, y), xytext=(0, 0), textcoords='offset points', fontsize=9)\n",
    "plt.grid()\n",
    "plt.show()"
   ]
  },
  {
   "cell_type": "markdown",
   "id": "geographic-advertiser",
   "metadata": {},
   "source": [
    "# TSNE MEDIUM POST"
   ]
  },
  {
   "cell_type": "code",
   "execution_count": 19,
   "id": "informational-appendix",
   "metadata": {},
   "outputs": [],
   "source": [
    "def display_closestwords_tsnescatterplot(model, word):\n",
    "    \n",
    "    arr = np.empty((0,300), dtype='f')\n",
    "    word_labels = [word]\n",
    "\n",
    "    # get close words\n",
    "    close_words = model.similar_by_word(word)\n",
    "    \n",
    "    # add the vector for each of the closest words to the array\n",
    "    arr = np.append(arr, np.array([model[word]]), axis=0)\n",
    "    for wrd_score in close_words:\n",
    "        wrd_vector = model[wrd_score[0]]\n",
    "        word_labels.append(wrd_score[0])\n",
    "        arr = np.append(arr, np.array([wrd_vector]), axis=0)\n",
    "        \n",
    "    #print('arr.shape', arr.shape)\n",
    "    \n",
    "    #assert 1<0\n",
    "        \n",
    "    # find tsne coords for 2 dimensions\n",
    "    tsne = TSNE(n_components=2, random_state=0)\n",
    "    #np.set_printoptions(suppress=True)\n",
    "    Y = tsne.fit_transform(arr)\n",
    "\n",
    "    x_coords = Y[:, 0]\n",
    "    y_coords = Y[:, 1]\n",
    "    \n",
    "    # display scatter plot\n",
    "    plt.scatter(x_coords, y_coords)\n",
    "\n",
    "    for label, x, y in zip(word_labels, x_coords, y_coords):\n",
    "        plt.annotate(label, xy=(x, y), xytext=(0, 0), textcoords='offset points')\n",
    "    plt.xlim(x_coords.min()+0.00005, x_coords.max()+0.00005)\n",
    "    plt.ylim(y_coords.min()+0.00005, y_coords.max()+0.00005)\n",
    "    plt.show()"
   ]
  },
  {
   "cell_type": "code",
   "execution_count": 20,
   "id": "sporting-command",
   "metadata": {},
   "outputs": [],
   "source": [
    "model = gensim.models.KeyedVectors.load_word2vec_format(f'{DATA_DIR}/GoogleNews-vectors-negative300.bin.gz', \n",
    "                                                        binary=True)"
   ]
  },
  {
   "cell_type": "code",
   "execution_count": 41,
   "id": "aquatic-discharge",
   "metadata": {},
   "outputs": [
    {
     "data": {
      "image/png": "[encoded data removed]",
      "text/plain": [
       "<Figure size 432x288 with 1 Axes>"
      ]
     },
     "metadata": {
      "needs_background": "light"
     },
     "output_type": "display_data"
    }
   ],
   "source": [
    "display_closestwords_tsnescatterplot(model, 'automation')"
   ]
  },
  {
   "cell_type": "code",
   "execution_count": null,
   "id": "metropolitan-power",
   "metadata": {},
   "outputs": [],
   "source": []
  }
 ],
 "metadata": {
  "kernelspec": {
   "display_name": "cmu",
   "language": "python",
   "name": "cmu"
  },
  "language_info": {
   "codemirror_mode": {
    "name": "ipython",
    "version": 3
   },
   "file_extension": ".py",
   "mimetype": "text/x-python",
   "name": "python",
   "nbconvert_exporter": "python",
   "pygments_lexer": "ipython3",
   "version": "3.7.10"
  }
 },
 "nbformat": 4,
 "nbformat_minor": 5
}
