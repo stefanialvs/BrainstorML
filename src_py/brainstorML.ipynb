{
 "cells": [
  {
   "cell_type": "code",
   "execution_count": 3,
   "id": "center-guinea",
   "metadata": {},
   "outputs": [],
   "source": [
    "import numpy as np\n",
    "import pandas as pd\n",
    "\n",
    "from scipy import spatial\n",
    "import matplotlib.pyplot as plt\n",
    "import gensim\n",
    "from sklearn.manifold import TSNE\n",
    "\n",
    "# from src_py.utils import "
   ]
  },
  {
   "cell_type": "code",
   "execution_count": 4,
   "id": "intelligent-titanium",
   "metadata": {},
   "outputs": [],
   "source": [
    "# global variables\n",
    "ROOT_DIR = '/Users/stefanialavattiata/Desktop/BrainstorML/src_py'\n",
    "DATA_DIR = f'{ROOT_DIR}/data/'"
   ]
  },
  {
   "cell_type": "code",
   "execution_count": 5,
   "id": "defined-trick",
   "metadata": {},
   "outputs": [
    {
     "name": "stdout",
     "output_type": "stream",
     "text": [
      "Loaded 400000 word vectors.\n"
     ]
    }
   ],
   "source": [
    "# load the whole embedding into memory       \n",
    "embeddings_dict={}\n",
    "with open(f'{DATA_DIR}/glove.6B.100d.txt','r') as f:\n",
    "    for line in f:\n",
    "        values=line.split()\n",
    "        word=values[0]\n",
    "        vectors=np.asarray(values[1:],'float32')\n",
    "        embeddings_dict[word]=vectors\n",
    "f.close()\n",
    "print('Loaded %s word vectors.' % len(embeddings_dict))"
   ]
  },
  {
   "cell_type": "code",
   "execution_count": 4,
   "id": "military-tactics",
   "metadata": {},
   "outputs": [
    {
     "data": {
      "text/plain": [
       "array([-0.10159  ,  0.27491  , -0.45296  ,  0.16752  ,  0.59923  ,\n",
       "       -0.80049  ,  0.39553  , -0.069191 , -0.32806  ,  1.4265   ,\n",
       "        0.31576  , -0.84981  ,  0.26073  , -0.31742  , -0.12402  ,\n",
       "        0.20956  ,  0.26322  ,  0.69942  , -0.091188 , -0.15548  ,\n",
       "       -0.87573  , -0.77778  ,  0.23715  , -0.66528  ,  0.48373  ,\n",
       "       -0.51719  , -0.24449  , -0.3951   , -0.58762  , -0.60386  ,\n",
       "       -0.66735  ,  1.039    , -0.51326  ,  0.032116 ,  0.20098  ,\n",
       "        0.35802  ,  0.015017 , -0.28235  ,  0.065305 , -0.43247  ,\n",
       "        0.17061  , -0.70985  , -0.28024  ,  0.26596  , -0.1753   ,\n",
       "        0.10066  ,  0.17453  ,  0.076265 , -0.18259  ,  0.050783 ,\n",
       "        0.23142  , -0.062024 , -0.16807  ,  0.73151  ,  0.1688   ,\n",
       "       -2.3304   , -0.15986  ,  0.25371  ,  1.5799   , -0.25435  ,\n",
       "        0.17311  ,  0.73297  ,  0.061702 ,  1.3885   ,  0.71277  ,\n",
       "       -0.56839  , -0.18891  ,  0.27     , -0.21111  , -0.11889  ,\n",
       "       -0.28836  ,  0.61762  , -0.10381  , -0.19017  ,  0.34063  ,\n",
       "       -0.54634  ,  0.57136  ,  0.49681  , -0.54458  , -0.3366   ,\n",
       "       -0.44133  , -0.24763  , -0.25082  ,  0.037016 , -1.2972   ,\n",
       "        0.4689   ,  0.12926  , -1.2479   , -0.39497  , -0.35029  ,\n",
       "        0.23662  , -0.46995  ,  0.44018  ,  0.0056156,  0.44697  ,\n",
       "        0.047862 , -1.0273   , -1.1573   ,  1.4317   ,  0.0033304],\n",
       "      dtype=float32)"
      ]
     },
     "execution_count": 4,
     "metadata": {},
     "output_type": "execute_result"
    }
   ],
   "source": [
    "# display a single vector (embedding)\n",
    "embeddings_dict['design']"
   ]
  },
  {
   "cell_type": "code",
   "execution_count": 5,
   "id": "future-amount",
   "metadata": {},
   "outputs": [],
   "source": [
    "# define (euclidean) distance function \n",
    "def find_closest_embeddings(embedding): \n",
    "    return sorted(embeddings_dict.keys(), \n",
    "                    key=lambda word: spatial.distance.euclidean(embeddings_dict[word],embedding))"
   ]
  },
  {
   "cell_type": "code",
   "execution_count": 6,
   "id": "changing-diesel",
   "metadata": {},
   "outputs": [
    {
     "name": "stdout",
     "output_type": "stream",
     "text": [
      "['yellow', 'green', 'red', 'purple', 'blue', 'pink', 'colored', 'black', 'peach', 'gray', 'cherry', 'brown', 'bright', 'tangerine', 'maroon', 'olive', 'lemon', 'light', 'lavender']\n"
     ]
    }
   ],
   "source": [
    "print(find_closest_embeddings(embeddings_dict[\"orange\"])[1:20])"
   ]
  },
  {
   "cell_type": "code",
   "execution_count": 7,
   "id": "boring-religious",
   "metadata": {},
   "outputs": [
    {
     "data": {
      "text/html": [
       "<div>\n",
       "<style scoped>\n",
       "    .dataframe tbody tr th:only-of-type {\n",
       "        vertical-align: middle;\n",
       "    }\n",
       "\n",
       "    .dataframe tbody tr th {\n",
       "        vertical-align: top;\n",
       "    }\n",
       "\n",
       "    .dataframe thead th {\n",
       "        text-align: right;\n",
       "    }\n",
       "</style>\n",
       "<table border=\"1\" class=\"dataframe\">\n",
       "  <thead>\n",
       "    <tr style=\"text-align: right;\">\n",
       "      <th></th>\n",
       "      <th>Word</th>\n",
       "    </tr>\n",
       "  </thead>\n",
       "  <tbody>\n",
       "    <tr>\n",
       "      <th>0</th>\n",
       "      <td>relationship</td>\n",
       "    </tr>\n",
       "    <tr>\n",
       "      <th>1</th>\n",
       "      <td>Assistance</td>\n",
       "    </tr>\n",
       "    <tr>\n",
       "      <th>2</th>\n",
       "      <td>Community</td>\n",
       "    </tr>\n",
       "    <tr>\n",
       "      <th>3</th>\n",
       "      <td>Communication</td>\n",
       "    </tr>\n",
       "    <tr>\n",
       "      <th>4</th>\n",
       "      <td>Faint</td>\n",
       "    </tr>\n",
       "    <tr>\n",
       "      <th>5</th>\n",
       "      <td>symptoms</td>\n",
       "    </tr>\n",
       "    <tr>\n",
       "      <th>6</th>\n",
       "      <td>Performance</td>\n",
       "    </tr>\n",
       "    <tr>\n",
       "      <th>7</th>\n",
       "      <td>medical</td>\n",
       "    </tr>\n",
       "    <tr>\n",
       "      <th>8</th>\n",
       "      <td>Doctor</td>\n",
       "    </tr>\n",
       "    <tr>\n",
       "      <th>9</th>\n",
       "      <td>advice</td>\n",
       "    </tr>\n",
       "    <tr>\n",
       "      <th>10</th>\n",
       "      <td>knowledge</td>\n",
       "    </tr>\n",
       "    <tr>\n",
       "      <th>11</th>\n",
       "      <td>treatments</td>\n",
       "    </tr>\n",
       "    <tr>\n",
       "      <th>12</th>\n",
       "      <td>aging</td>\n",
       "    </tr>\n",
       "    <tr>\n",
       "      <th>13</th>\n",
       "      <td>education</td>\n",
       "    </tr>\n",
       "    <tr>\n",
       "      <th>14</th>\n",
       "      <td>menopause</td>\n",
       "    </tr>\n",
       "    <tr>\n",
       "      <th>15</th>\n",
       "      <td>stereotype</td>\n",
       "    </tr>\n",
       "    <tr>\n",
       "      <th>16</th>\n",
       "      <td>fear</td>\n",
       "    </tr>\n",
       "    <tr>\n",
       "      <th>17</th>\n",
       "      <td>events</td>\n",
       "    </tr>\n",
       "    <tr>\n",
       "      <th>18</th>\n",
       "      <td>age</td>\n",
       "    </tr>\n",
       "    <tr>\n",
       "      <th>19</th>\n",
       "      <td>Support</td>\n",
       "    </tr>\n",
       "  </tbody>\n",
       "</table>\n",
       "</div>"
      ],
      "text/plain": [
       "             Word\n",
       "0    relationship\n",
       "1      Assistance\n",
       "2       Community\n",
       "3   Communication\n",
       "4           Faint\n",
       "5        symptoms\n",
       "6     Performance\n",
       "7         medical\n",
       "8          Doctor\n",
       "9          advice\n",
       "10      knowledge\n",
       "11     treatments\n",
       "12          aging\n",
       "13      education\n",
       "14      menopause\n",
       "15     stereotype\n",
       "16           fear\n",
       "17         events\n",
       "18            age\n",
       "19        Support"
      ]
     },
     "execution_count": 7,
     "metadata": {},
     "output_type": "execute_result"
    }
   ],
   "source": [
    "bml_1 = pd.read_csv (f'{DATA_DIR}/test_data/bml_words1.csv')\n",
    "bml_2 = pd.read_csv (f'{DATA_DIR}/test_data/bml_words2.csv')\n",
    "bml_3 = pd.read_csv (f'{DATA_DIR}/test_data/bml_words3.csv')\n",
    "bml_1"
   ]
  },
  {
   "cell_type": "code",
   "execution_count": 13,
   "id": "overall-madison",
   "metadata": {},
   "outputs": [
    {
     "name": "stdout",
     "output_type": "stream",
     "text": [
      "embeddings_query.shape (20, 100)\n"
     ]
    }
   ],
   "source": [
    "embeddings_query = []\n",
    "for idx, row in bml_1.iterrows():\n",
    "    word = clean_word(row['Word'])\n",
    "    embedding = embeddings_dict[word]\n",
    "    embeddings_query.append(embedding)\n",
    "embeddings_query = np.vstack(embeddings_query)  \n",
    "\n",
    "print(\"embeddings_query.shape\", embeddings_query.shape)"
   ]
  },
  {
   "cell_type": "code",
   "execution_count": 17,
   "id": "communist-toddler",
   "metadata": {},
   "outputs": [
    {
     "name": "stdout",
     "output_type": "stream",
     "text": [
      "word_vectors.shape (20, 2)\n"
     ]
    },
    {
     "data": {
      "image/png": "[encoded data removed]",
      "text/plain": [
       "<Figure size 432x288 with 1 Axes>"
      ]
     },
     "metadata": {
      "needs_background": "light"
     },
     "output_type": "display_data"
    }
   ],
   "source": [
    "word_vectors = TSNE(n_components = 2, random_state=0,\n",
    "                    learning_rate = 0.05).fit_transform(embeddings_query)\n",
    " \n",
    "print(\"word_vectors.shape\", word_vectors.shape)\n",
    "\n",
    "plt.scatter(word_vectors[:,0], word_vectors[:,1])\n",
    "plt.show()"
   ]
  },
  {
   "cell_type": "markdown",
   "id": "geographic-advertiser",
   "metadata": {},
   "source": [
    "# TSNE MEDIUM POST"
   ]
  },
  {
   "cell_type": "code",
   "execution_count": 15,
   "id": "informational-appendix",
   "metadata": {},
   "outputs": [],
   "source": [
    "def display_closestwords_tsnescatterplot(model, word):\n",
    "    \n",
    "    arr = np.empty((0,300), dtype='f')\n",
    "    word_labels = [word]\n",
    "\n",
    "    # get close words\n",
    "    close_words = model.similar_by_word(word)\n",
    "    \n",
    "    # add the vector for each of the closest words to the array\n",
    "    arr = np.append(arr, np.array([model[word]]), axis=0)\n",
    "    for wrd_score in close_words:\n",
    "        wrd_vector = model[wrd_score[0]]\n",
    "        word_labels.append(wrd_score[0])\n",
    "        arr = np.append(arr, np.array([wrd_vector]), axis=0)\n",
    "        \n",
    "    #print('arr.shape', arr.shape)\n",
    "    \n",
    "    #assert 1<0\n",
    "        \n",
    "    # find tsne coords for 2 dimensions\n",
    "    tsne = TSNE(n_components=2, random_state=0)\n",
    "    #np.set_printoptions(suppress=True)\n",
    "    Y = tsne.fit_transform(arr)\n",
    "\n",
    "    x_coords = Y[:, 0]\n",
    "    y_coords = Y[:, 1]\n",
    "    \n",
    "    # display scatter plot\n",
    "    plt.scatter(x_coords, y_coords)\n",
    "\n",
    "    for label, x, y in zip(word_labels, x_coords, y_coords):\n",
    "        plt.annotate(label, xy=(x, y), xytext=(0, 0), textcoords='offset points')\n",
    "    plt.xlim(x_coords.min()+0.00005, x_coords.max()+0.00005)\n",
    "    plt.ylim(y_coords.min()+0.00005, y_coords.max()+0.00005)\n",
    "    plt.show()"
   ]
  },
  {
   "cell_type": "code",
   "execution_count": 14,
   "id": "sporting-command",
   "metadata": {},
   "outputs": [
    {
     "name": "stdout",
     "output_type": "stream",
     "text": [
      "termina load\n",
      "arr.shape (11, 300)\n"
     ]
    },
    {
     "ename": "AssertionError",
     "evalue": "",
     "output_type": "error",
     "traceback": [
      "\u001b[0;31m---------------------------------------------------------------------------\u001b[0m",
      "\u001b[0;31mAssertionError\u001b[0m                            Traceback (most recent call last)",
      "\u001b[0;32m<ipython-input-14-873c56e53642>\u001b[0m in \u001b[0;36m<module>\u001b[0;34m\u001b[0m\n\u001b[1;32m      3\u001b[0m \u001b[0;34m\u001b[0m\u001b[0m\n\u001b[1;32m      4\u001b[0m \u001b[0mprint\u001b[0m\u001b[0;34m(\u001b[0m\u001b[0;34m\"termina load\"\u001b[0m\u001b[0;34m)\u001b[0m\u001b[0;34m\u001b[0m\u001b[0;34m\u001b[0m\u001b[0m\n\u001b[0;32m----> 5\u001b[0;31m \u001b[0mdisplay_closestwords_tsnescatterplot\u001b[0m\u001b[0;34m(\u001b[0m\u001b[0mmodel\u001b[0m\u001b[0;34m,\u001b[0m \u001b[0;34m'tasty'\u001b[0m\u001b[0;34m)\u001b[0m\u001b[0;34m\u001b[0m\u001b[0;34m\u001b[0m\u001b[0m\n\u001b[0m",
      "\u001b[0;32m<ipython-input-10-87c6cd19dfd6>\u001b[0m in \u001b[0;36mdisplay_closestwords_tsnescatterplot\u001b[0;34m(model, word)\u001b[0m\n\u001b[1;32m     16\u001b[0m     \u001b[0mprint\u001b[0m\u001b[0;34m(\u001b[0m\u001b[0;34m'arr.shape'\u001b[0m\u001b[0;34m,\u001b[0m \u001b[0marr\u001b[0m\u001b[0;34m.\u001b[0m\u001b[0mshape\u001b[0m\u001b[0;34m)\u001b[0m\u001b[0;34m\u001b[0m\u001b[0;34m\u001b[0m\u001b[0m\n\u001b[1;32m     17\u001b[0m \u001b[0;34m\u001b[0m\u001b[0m\n\u001b[0;32m---> 18\u001b[0;31m     \u001b[0;32massert\u001b[0m \u001b[0;36m1\u001b[0m\u001b[0;34m<\u001b[0m\u001b[0;36m0\u001b[0m\u001b[0;34m\u001b[0m\u001b[0;34m\u001b[0m\u001b[0m\n\u001b[0m\u001b[1;32m     19\u001b[0m \u001b[0;34m\u001b[0m\u001b[0m\n\u001b[1;32m     20\u001b[0m     \u001b[0;31m# find tsne coords for 2 dimensions\u001b[0m\u001b[0;34m\u001b[0m\u001b[0;34m\u001b[0m\u001b[0;34m\u001b[0m\u001b[0m\n",
      "\u001b[0;31mAssertionError\u001b[0m: "
     ]
    }
   ],
   "source": [
    "model = gensim.models.KeyedVectors.load_word2vec_format(f'{DATA_DIR}/GoogleNews-vectors-negative300.bin.gz', \n",
    "                                                        binary=True)"
   ]
  },
  {
   "cell_type": "code",
   "execution_count": 17,
   "id": "aquatic-discharge",
   "metadata": {},
   "outputs": [
    {
     "name": "stdout",
     "output_type": "stream",
     "text": [
      "termina load\n"
     ]
    },
    {
     "data": {
      "image/png": "[encoded data removed]",
      "text/plain": [
       "<Figure size 432x288 with 1 Axes>"
      ]
     },
     "metadata": {
      "needs_background": "light"
     },
     "output_type": "display_data"
    }
   ],
   "source": [
    "print(\"termina load\")\n",
    "display_closestwords_tsnescatterplot(model, 'tasty')"
   ]
  },
  {
   "cell_type": "code",
   "execution_count": null,
   "id": "metropolitan-power",
   "metadata": {},
   "outputs": [],
   "source": []
  }
 ],
 "metadata": {
  "kernelspec": {
   "display_name": "cmu",
   "language": "python",
   "name": "cmu"
  },
  "language_info": {
   "codemirror_mode": {
    "name": "ipython",
    "version": 3
   },
   "file_extension": ".py",
   "mimetype": "text/x-python",
   "name": "python",
   "nbconvert_exporter": "python",
   "pygments_lexer": "ipython3",
   "version": "3.7.10"
  }
 },
 "nbformat": 4,
 "nbformat_minor": 5
}
